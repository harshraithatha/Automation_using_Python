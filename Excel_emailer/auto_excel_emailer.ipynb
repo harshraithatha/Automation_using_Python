{
 "cells": [
  {
   "cell_type": "code",
   "execution_count": 1,
   "metadata": {},
   "outputs": [],
   "source": [
    "import pandas as pd\n",
    "from pathlib import Path\n",
    "import win32com.client as client"
   ]
  },
  {
   "cell_type": "code",
   "execution_count": 2,
   "metadata": {},
   "outputs": [],
   "source": [
    "outlook = client.Dispatch('Outlook.Application')\n",
    "namespace = outlook.GetNameSpace('MAPI')\n",
    "\n",
    "INPUT_DIR = Path.home() / 'Downloads'                                  # to select the input directory\n",
    "OUTPUT_DIR = Path.home() / 'Downloads'                                 # to select the output directory"
   ]
  },
  {
   "cell_type": "code",
   "execution_count": 3,
   "metadata": {},
   "outputs": [],
   "source": [
    "email_dict = {'Sporting':'sporting.team@company.com',\n",
    "\t\t\t  'Toys': 'toys.dept@company.com',\n",
    "\t\t\t  'Hardware': 'hardware.team@company.com; hardware.manager@company.com'}\n",
    "\n",
    "# # Update the dictionary with the necessary department name and email ids"
   ]
  },
  {
   "cell_type": "code",
   "execution_count": 4,
   "metadata": {},
   "outputs": [],
   "source": [
    "df = pd.read_excel(str(INPUT_DIR) + '\\salesdata.xlsx', sheet_name='Flyer1')"
   ]
  },
  {
   "cell_type": "code",
   "execution_count": 5,
   "metadata": {},
   "outputs": [],
   "source": [
    "department_name = df['Dept'].unique()\n",
    "for item in department_name:\n",
    "\tdf_temp = df[df['Dept']==item]\n",
    "\tdf_temp.to_excel(str(OUTPUT_DIR) + '/' + f'{item}.xlsx', sheet_name=item, index=False)\n",
    "\t\n",
    "\temail_body = f\"\"\"Attached is the list of sales data for {item} department\"\"\"\n",
    "\t\n",
    "\tmessage = outlook.CreateItem(0)\n",
    "\tmessage.Subject = 'Devices powered off since September'\n",
    "\tmessage.BodyFormat = 1\t\t\t\t\t\t\t\t\t\t\t\t# 1 is for Text email\n",
    "\tmessage.Body = email_body\n",
    "\tmessage.To = email_dict[item]\n",
    "\tmessage.Cc = 'sales.dept@company.com'\t\t\t\t\t\t\t\t# Optional\n",
    "\tmessage._oleobj_.Invoke(*(64209, 0, 8, 0, namespace.Accounts.Item('sender.email@company.com'))) # Optional. Check below line for details\n",
    "\t\t# # incase you have multiple mail accounts on outlook, the above line will help you choose the one you wish to send the email from\n",
    "\tmessage.Attachments.Add(str(OUTPUT_DIR) + '/' + f'{item}.xlsx')\n",
    "\t\n",
    "\tmessage.Display()\t\t\t\t\t\t\t\t\t\t\t\t\t# to display the email\n",
    "\t# message.Save()\t\t\t\t\t\t\t\t\t\t\t\t\t\t# to save the email as draft\n",
    "\t# message.Send()\t\t\t\t\t\t\t\t\t\t\t\t\t\t# to send the email"
   ]
  }
 ],
 "metadata": {
  "interpreter": {
   "hash": "85d26b0d45635eda30490a2c0c1a964d124d8ce1860e7358aefc171f899040f7"
  },
  "kernelspec": {
   "display_name": "Python 3.8.8 64-bit ('base': conda)",
   "language": "python",
   "name": "python3"
  },
  "language_info": {
   "codemirror_mode": {
    "name": "ipython",
    "version": 3
   },
   "file_extension": ".py",
   "mimetype": "text/x-python",
   "name": "python",
   "nbconvert_exporter": "python",
   "pygments_lexer": "ipython3",
   "version": "3.8.8"
  },
  "orig_nbformat": 4
 },
 "nbformat": 4,
 "nbformat_minor": 2
}
